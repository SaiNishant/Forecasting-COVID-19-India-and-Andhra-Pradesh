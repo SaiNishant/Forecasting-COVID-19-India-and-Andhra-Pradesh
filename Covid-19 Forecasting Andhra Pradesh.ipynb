{
 "cells": [
  {
   "cell_type": "code",
   "execution_count": 1,
   "metadata": {},
   "outputs": [],
   "source": [
    "import pandas as pd          \n",
    "import numpy as np          # For mathematical calculations \n",
    "import matplotlib.pyplot as plt  # For plotting graphs \n",
    "from datetime import datetime    # To access datetime \n",
    "from pandas import Series        # To work on series \n",
    "%matplotlib inline \n",
    "import warnings                   # To ignore the warnings \n",
    "warnings.filterwarnings(\"ignore\")\n",
    "import os\n",
    "os.chdir(r'C:\\Users\\Hp\\Downloads\\Forecasting')"
   ]
  },
  {
   "cell_type": "code",
   "execution_count": 2,
   "metadata": {},
   "outputs": [
    {
     "data": {
      "text/plain": [
       "Index(['Date', 'Confirmed'], dtype='object')"
      ]
     },
     "execution_count": 2,
     "metadata": {},
     "output_type": "execute_result"
    }
   ],
   "source": [
    "data=pd.read_csv(\"data_ap.csv\") \n",
    "data.columns"
   ]
  },
  {
   "cell_type": "code",
   "execution_count": 3,
   "metadata": {},
   "outputs": [],
   "source": [
    "data['Date']=pd.to_datetime(data.Date)\n"
   ]
  },
  {
   "cell_type": "code",
   "execution_count": 4,
   "metadata": {},
   "outputs": [],
   "source": [
    "data.index=data['Date']\n"
   ]
  },
  {
   "cell_type": "code",
   "execution_count": 5,
   "metadata": {},
   "outputs": [],
   "source": [
    "data=data.drop(\"Date\",1)"
   ]
  },
  {
   "cell_type": "code",
   "execution_count": 6,
   "metadata": {},
   "outputs": [
    {
     "data": {
      "image/png": "[encoded data removed]",
      "text/plain": [
       "<Figure size 720x720 with 1 Axes>"
      ]
     },
     "metadata": {},
     "output_type": "display_data"
    }
   ],
   "source": [
    "data.Confirmed.plot(figsize=(10,10), title= 'Daily', fontsize=14, label='train') \n",
    "#valid.Confirmed.plot(figsize=(15,8), title= 'Daily', fontsize=14, label='valid')\n",
    "plt.xlabel(\"Datetime\") \n",
    "plt.ylabel(\"Cases\") \n",
    "plt.legend(loc='best') \n",
    "plt.show()"
   ]
  },
  {
   "cell_type": "code",
   "execution_count": 14,
   "metadata": {},
   "outputs": [],
   "source": [
    "data=data.dropna()"
   ]
  },
  {
   "cell_type": "code",
   "execution_count": 10,
   "metadata": {},
   "outputs": [
    {
     "data": {
      "text/plain": [
       "[(0, 0, 0),\n",
       " (0, 0, 1),\n",
       " (0, 0, 2),\n",
       " (0, 0, 3),\n",
       " (0, 1, 0),\n",
       " (0, 1, 1),\n",
       " (0, 1, 2),\n",
       " (0, 1, 3),\n",
       " (0, 2, 0),\n",
       " (0, 2, 1),\n",
       " (0, 2, 2),\n",
       " (0, 2, 3),\n",
       " (0, 3, 0),\n",
       " (0, 3, 1),\n",
       " (0, 3, 2),\n",
       " (0, 3, 3),\n",
       " (1, 0, 0),\n",
       " (1, 0, 1),\n",
       " (1, 0, 2),\n",
       " (1, 0, 3),\n",
       " (1, 1, 0),\n",
       " (1, 1, 1),\n",
       " (1, 1, 2),\n",
       " (1, 1, 3),\n",
       " (1, 2, 0),\n",
       " (1, 2, 1),\n",
       " (1, 2, 2),\n",
       " (1, 2, 3),\n",
       " (1, 3, 0),\n",
       " (1, 3, 1),\n",
       " (1, 3, 2),\n",
       " (1, 3, 3),\n",
       " (2, 0, 0),\n",
       " (2, 0, 1),\n",
       " (2, 0, 2),\n",
       " (2, 0, 3),\n",
       " (2, 1, 0),\n",
       " (2, 1, 1),\n",
       " (2, 1, 2),\n",
       " (2, 1, 3),\n",
       " (2, 2, 0),\n",
       " (2, 2, 1),\n",
       " (2, 2, 2),\n",
       " (2, 2, 3),\n",
       " (2, 3, 0),\n",
       " (2, 3, 1),\n",
       " (2, 3, 2),\n",
       " (2, 3, 3),\n",
       " (3, 0, 0),\n",
       " (3, 0, 1),\n",
       " (3, 0, 2),\n",
       " (3, 0, 3),\n",
       " (3, 1, 0),\n",
       " (3, 1, 1),\n",
       " (3, 1, 2),\n",
       " (3, 1, 3),\n",
       " (3, 2, 0),\n",
       " (3, 2, 1),\n",
       " (3, 2, 2),\n",
       " (3, 2, 3),\n",
       " (3, 3, 0),\n",
       " (3, 3, 1),\n",
       " (3, 3, 2),\n",
       " (3, 3, 3)]"
      ]
     },
     "execution_count": 10,
     "metadata": {},
     "output_type": "execute_result"
    }
   ],
   "source": [
    "import itertools\n",
    "p=d=q=range(0,4)\n",
    "pdq = list(itertools.product(p,d,q))\n",
    "pdq"
   ]
  },
  {
   "cell_type": "code",
   "execution_count": 15,
   "metadata": {},
   "outputs": [
    {
     "name": "stdout",
     "output_type": "stream",
     "text": [
      "(0, 0, 0) 708.0811574289505\n",
      "(0, 0, 1) 651.3766610998382\n",
      "(0, 0, 2) 606.6412028380687\n",
      "(0, 0, 3) 572.0780875945368\n",
      "(0, 1, 0) 456.9820072732591\n",
      "(0, 1, 1) 452.7100507077917\n",
      "(0, 1, 2) 446.6156782990963\n",
      "(0, 1, 3) 437.02742908893214\n",
      "(0, 2, 0) 447.35442867532225\n",
      "(0, 2, 1) 412.94178947077273\n",
      "(1, 0, 0) 514.970506822905\n",
      "(1, 1, 0) 446.5821465925154\n",
      "(1, 1, 3) 427.8166430596157\n",
      "(1, 2, 0) 423.25495290399397\n",
      "(1, 2, 1) 411.8608484138873\n",
      "(1, 2, 2) 413.4898992702124\n",
      "(2, 0, 0) 483.85866732950467\n",
      "(2, 1, 0) 433.4263472464573\n",
      "(2, 2, 0) 413.33766840512965\n",
      "(2, 2, 1) 413.17237569954193\n",
      "(2, 2, 2) 412.28764420166783\n",
      "(3, 1, 0) 426.1181894153354\n",
      "(3, 1, 1) 427.7971477580587\n",
      "(3, 1, 2) 427.3889904216043\n",
      "(3, 2, 0) 414.5872743693144\n",
      "(3, 2, 1) 412.6318208332359\n",
      "(3, 2, 2) 412.9243527920744\n",
      "(3, 2, 3) 414.1866473535981\n"
     ]
    }
   ],
   "source": [
    "from statsmodels.tsa.arima_model import ARIMA\n",
    "import warnings\n",
    "warnings.filterwarnings('ignore')\n",
    "for param in pdq:\n",
    "    try:\n",
    "        model_arima = ARIMA(data.Confirmed,order=param)\n",
    "        model_arima_fit = model_arima.fit()\n",
    "        print(param,model_arima_fit.aic)\n",
    "    except:\n",
    "        continue"
   ]
  },
  {
   "cell_type": "code",
   "execution_count": 16,
   "metadata": {},
   "outputs": [],
   "source": [
    "model_arima = ARIMA(data.Confirmed,order=(1, 2, 1))\n",
    "model_arima_fit = model_arima.fit()"
   ]
  },
  {
   "cell_type": "code",
   "execution_count": 17,
   "metadata": {},
   "outputs": [
    {
     "data": {
      "text/plain": [
       "array([1333, 1412, 1492, 1574, 1658, 1744, 1831, 1920, 2011, 2103, 2197,\n",
       "       2293, 2391, 2490, 2591])"
      ]
     },
     "execution_count": 17,
     "metadata": {},
     "output_type": "execute_result"
    }
   ],
   "source": [
    "predictions= model_arima_fit.forecast(steps=15)[0]\n",
    "predictions.astype(int)"
   ]
  },
  {
   "cell_type": "code",
   "execution_count": 18,
   "metadata": {},
   "outputs": [],
   "source": [
    "predictions=pd.DataFrame(predictions)\n",
    "predictions['Date']=['4/29/2020','4/30/2020','5/1/2020','5/2/2020','5/3/2020',\n",
    "                   '5/4/2020','5/5/2020','5/6/2020','5/7/2020','5/8/2020',\n",
    "                   '5/9/2020','5/10/2020','5/11/2020','5/12/2020','5/13/2020']\n",
    "predictions['Date']=pd.to_datetime(predictions.Date)\n",
    "predictions.index=predictions.Date"
   ]
  },
  {
   "cell_type": "code",
   "execution_count": 19,
   "metadata": {},
   "outputs": [
    {
     "data": {
      "text/html": [
       "<div>\n",
       "<style scoped>\n",
       "    .dataframe tbody tr th:only-of-type {\n",
       "        vertical-align: middle;\n",
       "    }\n",
       "\n",
       "    .dataframe tbody tr th {\n",
       "        vertical-align: top;\n",
       "    }\n",
       "\n",
       "    .dataframe thead th {\n",
       "        text-align: right;\n",
       "    }\n",
       "</style>\n",
       "<table border=\"1\" class=\"dataframe\">\n",
       "  <thead>\n",
       "    <tr style=\"text-align: right;\">\n",
       "      <th></th>\n",
       "      <th>0</th>\n",
       "      <th>Date</th>\n",
       "    </tr>\n",
       "    <tr>\n",
       "      <th>Date</th>\n",
       "      <th></th>\n",
       "      <th></th>\n",
       "    </tr>\n",
       "  </thead>\n",
       "  <tbody>\n",
       "    <tr>\n",
       "      <th>2020-04-29</th>\n",
       "      <td>1333.270389</td>\n",
       "      <td>2020-04-29</td>\n",
       "    </tr>\n",
       "    <tr>\n",
       "      <th>2020-04-30</th>\n",
       "      <td>1412.847192</td>\n",
       "      <td>2020-04-30</td>\n",
       "    </tr>\n",
       "    <tr>\n",
       "      <th>2020-05-01</th>\n",
       "      <td>1492.799449</td>\n",
       "      <td>2020-05-01</td>\n",
       "    </tr>\n",
       "    <tr>\n",
       "      <th>2020-05-02</th>\n",
       "      <td>1574.992327</td>\n",
       "      <td>2020-05-02</td>\n",
       "    </tr>\n",
       "    <tr>\n",
       "      <th>2020-05-03</th>\n",
       "      <td>1658.720315</td>\n",
       "      <td>2020-05-03</td>\n",
       "    </tr>\n",
       "    <tr>\n",
       "      <th>2020-05-04</th>\n",
       "      <td>1744.250277</td>\n",
       "      <td>2020-05-04</td>\n",
       "    </tr>\n",
       "    <tr>\n",
       "      <th>2020-05-05</th>\n",
       "      <td>1831.481269</td>\n",
       "      <td>2020-05-05</td>\n",
       "    </tr>\n",
       "    <tr>\n",
       "      <th>2020-05-06</th>\n",
       "      <td>1920.451475</td>\n",
       "      <td>2020-05-06</td>\n",
       "    </tr>\n",
       "    <tr>\n",
       "      <th>2020-05-07</th>\n",
       "      <td>2011.146451</td>\n",
       "      <td>2020-05-07</td>\n",
       "    </tr>\n",
       "    <tr>\n",
       "      <th>2020-05-08</th>\n",
       "      <td>2103.571660</td>\n",
       "      <td>2020-05-08</td>\n",
       "    </tr>\n",
       "    <tr>\n",
       "      <th>2020-05-09</th>\n",
       "      <td>2197.725037</td>\n",
       "      <td>2020-05-09</td>\n",
       "    </tr>\n",
       "    <tr>\n",
       "      <th>2020-05-10</th>\n",
       "      <td>2293.607362</td>\n",
       "      <td>2020-05-10</td>\n",
       "    </tr>\n",
       "    <tr>\n",
       "      <th>2020-05-11</th>\n",
       "      <td>2391.218341</td>\n",
       "      <td>2020-05-11</td>\n",
       "    </tr>\n",
       "    <tr>\n",
       "      <th>2020-05-12</th>\n",
       "      <td>2490.558084</td>\n",
       "      <td>2020-05-12</td>\n",
       "    </tr>\n",
       "    <tr>\n",
       "      <th>2020-05-13</th>\n",
       "      <td>2591.626550</td>\n",
       "      <td>2020-05-13</td>\n",
       "    </tr>\n",
       "  </tbody>\n",
       "</table>\n",
       "</div>"
      ],
      "text/plain": [
       "                      0       Date\n",
       "Date                              \n",
       "2020-04-29  1333.270389 2020-04-29\n",
       "2020-04-30  1412.847192 2020-04-30\n",
       "2020-05-01  1492.799449 2020-05-01\n",
       "2020-05-02  1574.992327 2020-05-02\n",
       "2020-05-03  1658.720315 2020-05-03\n",
       "2020-05-04  1744.250277 2020-05-04\n",
       "2020-05-05  1831.481269 2020-05-05\n",
       "2020-05-06  1920.451475 2020-05-06\n",
       "2020-05-07  2011.146451 2020-05-07\n",
       "2020-05-08  2103.571660 2020-05-08\n",
       "2020-05-09  2197.725037 2020-05-09\n",
       "2020-05-10  2293.607362 2020-05-10\n",
       "2020-05-11  2391.218341 2020-05-11\n",
       "2020-05-12  2490.558084 2020-05-12\n",
       "2020-05-13  2591.626550 2020-05-13"
      ]
     },
     "execution_count": 19,
     "metadata": {},
     "output_type": "execute_result"
    }
   ],
   "source": [
    "predictions"
   ]
  },
  {
   "cell_type": "code",
   "execution_count": 20,
   "metadata": {},
   "outputs": [
    {
     "data": {
      "text/html": [
       "<div>\n",
       "<style scoped>\n",
       "    .dataframe tbody tr th:only-of-type {\n",
       "        vertical-align: middle;\n",
       "    }\n",
       "\n",
       "    .dataframe tbody tr th {\n",
       "        vertical-align: top;\n",
       "    }\n",
       "\n",
       "    .dataframe thead th {\n",
       "        text-align: right;\n",
       "    }\n",
       "</style>\n",
       "<table border=\"1\" class=\"dataframe\">\n",
       "  <thead>\n",
       "    <tr style=\"text-align: right;\">\n",
       "      <th></th>\n",
       "      <th>0</th>\n",
       "      <th>Date</th>\n",
       "    </tr>\n",
       "    <tr>\n",
       "      <th>Date</th>\n",
       "      <th></th>\n",
       "      <th></th>\n",
       "    </tr>\n",
       "  </thead>\n",
       "  <tbody>\n",
       "    <tr>\n",
       "      <th>2020-04-29</th>\n",
       "      <td>1333.270389</td>\n",
       "      <td>2020-04-29</td>\n",
       "    </tr>\n",
       "    <tr>\n",
       "      <th>2020-04-30</th>\n",
       "      <td>1412.847192</td>\n",
       "      <td>2020-04-30</td>\n",
       "    </tr>\n",
       "    <tr>\n",
       "      <th>2020-05-01</th>\n",
       "      <td>1492.799449</td>\n",
       "      <td>2020-05-01</td>\n",
       "    </tr>\n",
       "    <tr>\n",
       "      <th>2020-05-02</th>\n",
       "      <td>1574.992327</td>\n",
       "      <td>2020-05-02</td>\n",
       "    </tr>\n",
       "    <tr>\n",
       "      <th>2020-05-03</th>\n",
       "      <td>1658.720315</td>\n",
       "      <td>2020-05-03</td>\n",
       "    </tr>\n",
       "    <tr>\n",
       "      <th>2020-05-04</th>\n",
       "      <td>1744.250277</td>\n",
       "      <td>2020-05-04</td>\n",
       "    </tr>\n",
       "    <tr>\n",
       "      <th>2020-05-05</th>\n",
       "      <td>1831.481269</td>\n",
       "      <td>2020-05-05</td>\n",
       "    </tr>\n",
       "    <tr>\n",
       "      <th>2020-05-06</th>\n",
       "      <td>1920.451475</td>\n",
       "      <td>2020-05-06</td>\n",
       "    </tr>\n",
       "    <tr>\n",
       "      <th>2020-05-07</th>\n",
       "      <td>2011.146451</td>\n",
       "      <td>2020-05-07</td>\n",
       "    </tr>\n",
       "    <tr>\n",
       "      <th>2020-05-08</th>\n",
       "      <td>2103.571660</td>\n",
       "      <td>2020-05-08</td>\n",
       "    </tr>\n",
       "    <tr>\n",
       "      <th>2020-05-09</th>\n",
       "      <td>2197.725037</td>\n",
       "      <td>2020-05-09</td>\n",
       "    </tr>\n",
       "    <tr>\n",
       "      <th>2020-05-10</th>\n",
       "      <td>2293.607362</td>\n",
       "      <td>2020-05-10</td>\n",
       "    </tr>\n",
       "    <tr>\n",
       "      <th>2020-05-11</th>\n",
       "      <td>2391.218341</td>\n",
       "      <td>2020-05-11</td>\n",
       "    </tr>\n",
       "    <tr>\n",
       "      <th>2020-05-12</th>\n",
       "      <td>2490.558084</td>\n",
       "      <td>2020-05-12</td>\n",
       "    </tr>\n",
       "    <tr>\n",
       "      <th>2020-05-13</th>\n",
       "      <td>2591.626550</td>\n",
       "      <td>2020-05-13</td>\n",
       "    </tr>\n",
       "  </tbody>\n",
       "</table>\n",
       "</div>"
      ],
      "text/plain": [
       "                      0       Date\n",
       "Date                              \n",
       "2020-04-29  1333.270389 2020-04-29\n",
       "2020-04-30  1412.847192 2020-04-30\n",
       "2020-05-01  1492.799449 2020-05-01\n",
       "2020-05-02  1574.992327 2020-05-02\n",
       "2020-05-03  1658.720315 2020-05-03\n",
       "2020-05-04  1744.250277 2020-05-04\n",
       "2020-05-05  1831.481269 2020-05-05\n",
       "2020-05-06  1920.451475 2020-05-06\n",
       "2020-05-07  2011.146451 2020-05-07\n",
       "2020-05-08  2103.571660 2020-05-08\n",
       "2020-05-09  2197.725037 2020-05-09\n",
       "2020-05-10  2293.607362 2020-05-10\n",
       "2020-05-11  2391.218341 2020-05-11\n",
       "2020-05-12  2490.558084 2020-05-12\n",
       "2020-05-13  2591.626550 2020-05-13"
      ]
     },
     "execution_count": 20,
     "metadata": {},
     "output_type": "execute_result"
    }
   ],
   "source": [
    "predictions"
   ]
  },
  {
   "cell_type": "code",
   "execution_count": 21,
   "metadata": {},
   "outputs": [],
   "source": [
    "predictions['Date']=predictions.index"
   ]
  },
  {
   "cell_type": "code",
   "execution_count": 22,
   "metadata": {},
   "outputs": [],
   "source": [
    "predictions['Day']=predictions.Date.dt.day"
   ]
  },
  {
   "cell_type": "code",
   "execution_count": 23,
   "metadata": {
    "scrolled": true
   },
   "outputs": [],
   "source": [
    "pre= pd.DataFrame(predictions[0].astype(int))"
   ]
  },
  {
   "cell_type": "code",
   "execution_count": 24,
   "metadata": {},
   "outputs": [],
   "source": [
    "pre.to_csv('pre.csv')"
   ]
  },
  {
   "cell_type": "code",
   "execution_count": 25,
   "metadata": {},
   "outputs": [],
   "source": [
    "x=predictions.Day\n",
    "x=x.values\n",
    "y=predictions[0].astype(int)\n"
   ]
  },
  {
   "cell_type": "code",
   "execution_count": 26,
   "metadata": {},
   "outputs": [
    {
     "data": {
      "text/plain": [
       "Date\n",
       "2020-04-29    1333\n",
       "2020-04-30    1412\n",
       "2020-05-01    1492\n",
       "2020-05-02    1574\n",
       "2020-05-03    1658\n",
       "2020-05-04    1744\n",
       "2020-05-05    1831\n",
       "2020-05-06    1920\n",
       "2020-05-07    2011\n",
       "2020-05-08    2103\n",
       "2020-05-09    2197\n",
       "2020-05-10    2293\n",
       "2020-05-11    2391\n",
       "2020-05-12    2490\n",
       "2020-05-13    2591\n",
       "Name: 0, dtype: int32"
      ]
     },
     "execution_count": 26,
     "metadata": {},
     "output_type": "execute_result"
    }
   ],
   "source": [
    "y"
   ]
  },
  {
   "cell_type": "code",
   "execution_count": 27,
   "metadata": {},
   "outputs": [],
   "source": [
    "y=y.astype(int)"
   ]
  },
  {
   "cell_type": "code",
   "execution_count": 28,
   "metadata": {},
   "outputs": [],
   "source": [
    "predictions = predictions.resample('D').mean() "
   ]
  },
  {
   "cell_type": "code",
   "execution_count": 41,
   "metadata": {},
   "outputs": [
    {
     "data": {
      "image/png": "[encoded data removed]",
      "text/plain": [
       "<Figure size 1440x720 with 1 Axes>"
      ]
     },
     "metadata": {},
     "output_type": "display_data"
    }
   ],
   "source": [
    "plt.figure(figsize=(20,10))\n",
    "plt.plot(data['Confirmed'], label='Data') \n",
    "plt.plot(predictions[0],\".\" ,label='Predicted Cases') \n",
    "plt.plot(predictions[0],label='Predicted Cases') \n",
    "#for i_x, i_y in zip(x, y):\n",
    "plt.text('4/29/2020',1333, str('1333 '),horizontalalignment='right')\n",
    "plt.text('4/30/2020',1412, str('1412 '),horizontalalignment='right')\n",
    "plt.text('5/1/2020',1492, str('1492  '),horizontalalignment='right')\n",
    "plt.text('5/2/2020',1574, str('1574  '),horizontalalignment='right')\n",
    "plt.text('5/3/2020',1658, str('1658  '),horizontalalignment='right')\n",
    "plt.text('5/4/2020',1744, str('1744  '),horizontalalignment='right')\n",
    "plt.text('5/5/2020',1831, str('1831  '),horizontalalignment='right')\n",
    "plt.text('5/6/2020',1920, str('1920  '),horizontalalignment='right')\n",
    "plt.text('5/7/2020',2011, str('2011  '),horizontalalignment='right')\n",
    "plt.text('5/8/2020',2103, str('2103  '),horizontalalignment='right')\n",
    "plt.text('5/9/2020',2197, str('2197  '),horizontalalignment='right')\n",
    "plt.text('5/10/2020',2293, str('2293  '),horizontalalignment='right')\n",
    "plt.text('5/11/2020',2391, str('2391  '),horizontalalignment='right')\n",
    "plt.text('5/12/2020',2490, str('2490  '),horizontalalignment='right')\n",
    "plt.text('5/13/2020',2591, str('2591  '),horizontalalignment='right')\n",
    "\n",
    "plt.text('4/29/2020',1333, str('  29th Apr'))\n",
    "plt.text('4/30/2020',1412, str('  30th Apr'))\n",
    "plt.text('5/1/2020',1492, str('   1st May'))\n",
    "plt.text('5/2/2020',1574, str('   2nd May'))\n",
    "plt.text('5/3/2020',1658, str('   3rd May'))\n",
    "plt.text('5/4/2020',1744, str('   4th May'))\n",
    "plt.text('5/5/2020',1831, str('   5th May'))\n",
    "plt.text('5/6/2020',1920, str('   6th May'))\n",
    "plt.text('5/7/2020',2011, str('   7th May'))\n",
    "plt.text('5/8/2020',2103, str('   8th May'))\n",
    "plt.text('5/9/2020',2197, str('   9th May'))\n",
    "plt.text('5/10/2020',2293, str('  10th May'))\n",
    "plt.text('5/11/2020',2391, str('  11th May'))\n",
    "plt.text('5/12/2020',2490, str('  12th May'))\n",
    "plt.text('5/13/2020',2591, str('  13th May'))\n",
    "plt.title('Forecasting Andhra Pradesh for Next 15 Days') \n",
    "plt.xlabel(\"Date\") \n",
    "plt.ylabel(\"COVID19-Cases\") \n",
    "#plt.text(y,'{},{}'.format(y))\n",
    "#plt.legend(loc='best') \n",
    "plt.show()"
   ]
  },
  {
   "cell_type": "code",
   "execution_count": null,
   "metadata": {},
   "outputs": [],
   "source": []
  }
 ],
 "metadata": {
  "kernelspec": {
   "display_name": "Python 3",
   "language": "python",
   "name": "python3"
  },
  "language_info": {
   "codemirror_mode": {
    "name": "ipython",
    "version": 3
   },
   "file_extension": ".py",
   "mimetype": "text/x-python",
   "name": "python",
   "nbconvert_exporter": "python",
   "pygments_lexer": "ipython3",
   "version": "3.6.5"
  }
 },
 "nbformat": 4,
 "nbformat_minor": 2
}
