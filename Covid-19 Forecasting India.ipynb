{
 "cells": [
  {
   "cell_type": "code",
   "execution_count": 2,
   "metadata": {},
   "outputs": [],
   "source": [
    "import pandas as pd          \n",
    "import numpy as np          # For mathematical calculations \n",
    "import matplotlib.pyplot as plt  # For plotting graphs \n",
    "from datetime import datetime    # To access datetime \n",
    "from pandas import Series        # To work on series \n",
    "%matplotlib inline \n",
    "import warnings                   # To ignore the warnings \n",
    "warnings.filterwarnings(\"ignore\")\n",
    "import os\n",
    "os.chdir(r'C:\\Users\\Hp\\Downloads\\Forecasting')"
   ]
  },
  {
   "cell_type": "code",
   "execution_count": 3,
   "metadata": {},
   "outputs": [
    {
     "data": {
      "text/plain": [
       "Index(['Datetime', 'Confirmed'], dtype='object')"
      ]
     },
     "execution_count": 3,
     "metadata": {},
     "output_type": "execute_result"
    }
   ],
   "source": [
    "data=pd.read_csv(\"india.csv\") \n",
    "data.columns"
   ]
  },
  {
   "cell_type": "code",
   "execution_count": 4,
   "metadata": {},
   "outputs": [
    {
     "data": {
      "text/html": [
       "<div>\n",
       "<style scoped>\n",
       "    .dataframe tbody tr th:only-of-type {\n",
       "        vertical-align: middle;\n",
       "    }\n",
       "\n",
       "    .dataframe tbody tr th {\n",
       "        vertical-align: top;\n",
       "    }\n",
       "\n",
       "    .dataframe thead th {\n",
       "        text-align: right;\n",
       "    }\n",
       "</style>\n",
       "<table border=\"1\" class=\"dataframe\">\n",
       "  <thead>\n",
       "    <tr style=\"text-align: right;\">\n",
       "      <th></th>\n",
       "      <th>Datetime</th>\n",
       "      <th>Confirmed</th>\n",
       "    </tr>\n",
       "  </thead>\n",
       "  <tbody>\n",
       "    <tr>\n",
       "      <th>0</th>\n",
       "      <td>2020-01-30T13:33:00.00+05:30</td>\n",
       "      <td>1</td>\n",
       "    </tr>\n",
       "    <tr>\n",
       "      <th>1</th>\n",
       "      <td>2020-02-02T10:39:00.00+05:30</td>\n",
       "      <td>2</td>\n",
       "    </tr>\n",
       "    <tr>\n",
       "      <th>2</th>\n",
       "      <td>2020-02-03T12:13:00.00+05:30</td>\n",
       "      <td>3</td>\n",
       "    </tr>\n",
       "    <tr>\n",
       "      <th>3</th>\n",
       "      <td>2020-03-02T14:28:00.00+05:30</td>\n",
       "      <td>5</td>\n",
       "    </tr>\n",
       "    <tr>\n",
       "      <th>4</th>\n",
       "      <td>2020-03-03T19:36:00.00+05:30</td>\n",
       "      <td>6</td>\n",
       "    </tr>\n",
       "  </tbody>\n",
       "</table>\n",
       "</div>"
      ],
      "text/plain": [
       "                       Datetime  Confirmed\n",
       "0  2020-01-30T13:33:00.00+05:30          1\n",
       "1  2020-02-02T10:39:00.00+05:30          2\n",
       "2  2020-02-03T12:13:00.00+05:30          3\n",
       "3  2020-03-02T14:28:00.00+05:30          5\n",
       "4  2020-03-03T19:36:00.00+05:30          6"
      ]
     },
     "execution_count": 4,
     "metadata": {},
     "output_type": "execute_result"
    }
   ],
   "source": [
    "data.head()"
   ]
  },
  {
   "cell_type": "code",
   "execution_count": 5,
   "metadata": {},
   "outputs": [],
   "source": [
    "data['Datetime']=pd.to_datetime(data.Datetime)"
   ]
  },
  {
   "cell_type": "code",
   "execution_count": 6,
   "metadata": {},
   "outputs": [
    {
     "data": {
      "text/plain": [
       "[<matplotlib.lines.Line2D at 0x10a786778d0>]"
      ]
     },
     "execution_count": 6,
     "metadata": {},
     "output_type": "execute_result"
    },
    {
     "data": {
      "image/png": "[encoded data removed]",
      "text/plain": [
       "<Figure size 1152x1152 with 1 Axes>"
      ]
     },
     "metadata": {},
     "output_type": "display_data"
    }
   ],
   "source": [
    "data.index=data['Datetime']\n",
    "ts = data['Confirmed'] \n",
    "plt.figure(figsize=(16,16))\n",
    "plt.plot(ts) \n"
   ]
  },
  {
   "cell_type": "code",
   "execution_count": 7,
   "metadata": {},
   "outputs": [],
   "source": [
    "daily = data.resample('D').mean() "
   ]
  },
  {
   "cell_type": "code",
   "execution_count": 8,
   "metadata": {},
   "outputs": [],
   "source": [
    "daily['Confirmed']=daily['Confirmed'].replace(np.nan,0)"
   ]
  },
  {
   "cell_type": "code",
   "execution_count": 9,
   "metadata": {},
   "outputs": [
    {
     "data": {
      "text/html": [
       "<div>\n",
       "<style scoped>\n",
       "    .dataframe tbody tr th:only-of-type {\n",
       "        vertical-align: middle;\n",
       "    }\n",
       "\n",
       "    .dataframe tbody tr th {\n",
       "        vertical-align: top;\n",
       "    }\n",
       "\n",
       "    .dataframe thead th {\n",
       "        text-align: right;\n",
       "    }\n",
       "</style>\n",
       "<table border=\"1\" class=\"dataframe\">\n",
       "  <thead>\n",
       "    <tr style=\"text-align: right;\">\n",
       "      <th></th>\n",
       "      <th>Confirmed</th>\n",
       "    </tr>\n",
       "    <tr>\n",
       "      <th>Datetime</th>\n",
       "      <th></th>\n",
       "    </tr>\n",
       "  </thead>\n",
       "  <tbody>\n",
       "    <tr>\n",
       "      <th>2020-01-30</th>\n",
       "      <td>1.0</td>\n",
       "    </tr>\n",
       "    <tr>\n",
       "      <th>2020-01-31</th>\n",
       "      <td>0.0</td>\n",
       "    </tr>\n",
       "    <tr>\n",
       "      <th>2020-02-01</th>\n",
       "      <td>0.0</td>\n",
       "    </tr>\n",
       "    <tr>\n",
       "      <th>2020-02-02</th>\n",
       "      <td>2.0</td>\n",
       "    </tr>\n",
       "    <tr>\n",
       "      <th>2020-02-03</th>\n",
       "      <td>3.0</td>\n",
       "    </tr>\n",
       "    <tr>\n",
       "      <th>2020-02-04</th>\n",
       "      <td>0.0</td>\n",
       "    </tr>\n",
       "    <tr>\n",
       "      <th>2020-02-05</th>\n",
       "      <td>0.0</td>\n",
       "    </tr>\n",
       "    <tr>\n",
       "      <th>2020-02-06</th>\n",
       "      <td>0.0</td>\n",
       "    </tr>\n",
       "    <tr>\n",
       "      <th>2020-02-07</th>\n",
       "      <td>0.0</td>\n",
       "    </tr>\n",
       "    <tr>\n",
       "      <th>2020-02-08</th>\n",
       "      <td>0.0</td>\n",
       "    </tr>\n",
       "    <tr>\n",
       "      <th>2020-02-09</th>\n",
       "      <td>0.0</td>\n",
       "    </tr>\n",
       "    <tr>\n",
       "      <th>2020-02-10</th>\n",
       "      <td>0.0</td>\n",
       "    </tr>\n",
       "    <tr>\n",
       "      <th>2020-02-11</th>\n",
       "      <td>0.0</td>\n",
       "    </tr>\n",
       "    <tr>\n",
       "      <th>2020-02-12</th>\n",
       "      <td>0.0</td>\n",
       "    </tr>\n",
       "    <tr>\n",
       "      <th>2020-02-13</th>\n",
       "      <td>0.0</td>\n",
       "    </tr>\n",
       "    <tr>\n",
       "      <th>2020-02-14</th>\n",
       "      <td>0.0</td>\n",
       "    </tr>\n",
       "    <tr>\n",
       "      <th>2020-02-15</th>\n",
       "      <td>0.0</td>\n",
       "    </tr>\n",
       "    <tr>\n",
       "      <th>2020-02-16</th>\n",
       "      <td>0.0</td>\n",
       "    </tr>\n",
       "    <tr>\n",
       "      <th>2020-02-17</th>\n",
       "      <td>0.0</td>\n",
       "    </tr>\n",
       "    <tr>\n",
       "      <th>2020-02-18</th>\n",
       "      <td>0.0</td>\n",
       "    </tr>\n",
       "    <tr>\n",
       "      <th>2020-02-19</th>\n",
       "      <td>0.0</td>\n",
       "    </tr>\n",
       "    <tr>\n",
       "      <th>2020-02-20</th>\n",
       "      <td>0.0</td>\n",
       "    </tr>\n",
       "    <tr>\n",
       "      <th>2020-02-21</th>\n",
       "      <td>0.0</td>\n",
       "    </tr>\n",
       "    <tr>\n",
       "      <th>2020-02-22</th>\n",
       "      <td>0.0</td>\n",
       "    </tr>\n",
       "    <tr>\n",
       "      <th>2020-02-23</th>\n",
       "      <td>0.0</td>\n",
       "    </tr>\n",
       "    <tr>\n",
       "      <th>2020-02-24</th>\n",
       "      <td>0.0</td>\n",
       "    </tr>\n",
       "    <tr>\n",
       "      <th>2020-02-25</th>\n",
       "      <td>0.0</td>\n",
       "    </tr>\n",
       "    <tr>\n",
       "      <th>2020-02-26</th>\n",
       "      <td>0.0</td>\n",
       "    </tr>\n",
       "    <tr>\n",
       "      <th>2020-02-27</th>\n",
       "      <td>0.0</td>\n",
       "    </tr>\n",
       "    <tr>\n",
       "      <th>2020-02-28</th>\n",
       "      <td>0.0</td>\n",
       "    </tr>\n",
       "    <tr>\n",
       "      <th>...</th>\n",
       "      <td>...</td>\n",
       "    </tr>\n",
       "    <tr>\n",
       "      <th>2020-03-30</th>\n",
       "      <td>1138.0</td>\n",
       "    </tr>\n",
       "    <tr>\n",
       "      <th>2020-03-31</th>\n",
       "      <td>1359.0</td>\n",
       "    </tr>\n",
       "    <tr>\n",
       "      <th>2020-04-01</th>\n",
       "      <td>1735.5</td>\n",
       "    </tr>\n",
       "    <tr>\n",
       "      <th>2020-04-02</th>\n",
       "      <td>2017.0</td>\n",
       "    </tr>\n",
       "    <tr>\n",
       "      <th>2020-04-03</th>\n",
       "      <td>2376.5</td>\n",
       "    </tr>\n",
       "    <tr>\n",
       "      <th>2020-04-04</th>\n",
       "      <td>2987.0</td>\n",
       "    </tr>\n",
       "    <tr>\n",
       "      <th>2020-04-05</th>\n",
       "      <td>3475.5</td>\n",
       "    </tr>\n",
       "    <tr>\n",
       "      <th>2020-04-06</th>\n",
       "      <td>4174.0</td>\n",
       "    </tr>\n",
       "    <tr>\n",
       "      <th>2020-04-07</th>\n",
       "      <td>4605.0</td>\n",
       "    </tr>\n",
       "    <tr>\n",
       "      <th>2020-04-08</th>\n",
       "      <td>5234.0</td>\n",
       "    </tr>\n",
       "    <tr>\n",
       "      <th>2020-04-09</th>\n",
       "      <td>5799.5</td>\n",
       "    </tr>\n",
       "    <tr>\n",
       "      <th>2020-04-10</th>\n",
       "      <td>6586.5</td>\n",
       "    </tr>\n",
       "    <tr>\n",
       "      <th>2020-04-11</th>\n",
       "      <td>7488.0</td>\n",
       "    </tr>\n",
       "    <tr>\n",
       "      <th>2020-04-12</th>\n",
       "      <td>8401.5</td>\n",
       "    </tr>\n",
       "    <tr>\n",
       "      <th>2020-04-13</th>\n",
       "      <td>9252.0</td>\n",
       "    </tr>\n",
       "    <tr>\n",
       "      <th>2020-04-14</th>\n",
       "      <td>10589.0</td>\n",
       "    </tr>\n",
       "    <tr>\n",
       "      <th>2020-04-15</th>\n",
       "      <td>11686.0</td>\n",
       "    </tr>\n",
       "    <tr>\n",
       "      <th>2020-04-16</th>\n",
       "      <td>12569.5</td>\n",
       "    </tr>\n",
       "    <tr>\n",
       "      <th>2020-04-17</th>\n",
       "      <td>13611.0</td>\n",
       "    </tr>\n",
       "    <tr>\n",
       "      <th>2020-04-18</th>\n",
       "      <td>14585.0</td>\n",
       "    </tr>\n",
       "    <tr>\n",
       "      <th>2020-04-19</th>\n",
       "      <td>15914.0</td>\n",
       "    </tr>\n",
       "    <tr>\n",
       "      <th>2020-04-20</th>\n",
       "      <td>17460.5</td>\n",
       "    </tr>\n",
       "    <tr>\n",
       "      <th>2020-04-21</th>\n",
       "      <td>18793.0</td>\n",
       "    </tr>\n",
       "    <tr>\n",
       "      <th>2020-04-22</th>\n",
       "      <td>20227.5</td>\n",
       "    </tr>\n",
       "    <tr>\n",
       "      <th>2020-04-23</th>\n",
       "      <td>21546.5</td>\n",
       "    </tr>\n",
       "    <tr>\n",
       "      <th>2020-04-24</th>\n",
       "      <td>23264.5</td>\n",
       "    </tr>\n",
       "    <tr>\n",
       "      <th>2020-04-25</th>\n",
       "      <td>24699.5</td>\n",
       "    </tr>\n",
       "    <tr>\n",
       "      <th>2020-04-26</th>\n",
       "      <td>26550.5</td>\n",
       "    </tr>\n",
       "    <tr>\n",
       "      <th>2020-04-27</th>\n",
       "      <td>28026.0</td>\n",
       "    </tr>\n",
       "    <tr>\n",
       "      <th>2020-04-28</th>\n",
       "      <td>29435.0</td>\n",
       "    </tr>\n",
       "  </tbody>\n",
       "</table>\n",
       "<p>90 rows × 1 columns</p>\n",
       "</div>"
      ],
      "text/plain": [
       "            Confirmed\n",
       "Datetime             \n",
       "2020-01-30        1.0\n",
       "2020-01-31        0.0\n",
       "2020-02-01        0.0\n",
       "2020-02-02        2.0\n",
       "2020-02-03        3.0\n",
       "2020-02-04        0.0\n",
       "2020-02-05        0.0\n",
       "2020-02-06        0.0\n",
       "2020-02-07        0.0\n",
       "2020-02-08        0.0\n",
       "2020-02-09        0.0\n",
       "2020-02-10        0.0\n",
       "2020-02-11        0.0\n",
       "2020-02-12        0.0\n",
       "2020-02-13        0.0\n",
       "2020-02-14        0.0\n",
       "2020-02-15        0.0\n",
       "2020-02-16        0.0\n",
       "2020-02-17        0.0\n",
       "2020-02-18        0.0\n",
       "2020-02-19        0.0\n",
       "2020-02-20        0.0\n",
       "2020-02-21        0.0\n",
       "2020-02-22        0.0\n",
       "2020-02-23        0.0\n",
       "2020-02-24        0.0\n",
       "2020-02-25        0.0\n",
       "2020-02-26        0.0\n",
       "2020-02-27        0.0\n",
       "2020-02-28        0.0\n",
       "...               ...\n",
       "2020-03-30     1138.0\n",
       "2020-03-31     1359.0\n",
       "2020-04-01     1735.5\n",
       "2020-04-02     2017.0\n",
       "2020-04-03     2376.5\n",
       "2020-04-04     2987.0\n",
       "2020-04-05     3475.5\n",
       "2020-04-06     4174.0\n",
       "2020-04-07     4605.0\n",
       "2020-04-08     5234.0\n",
       "2020-04-09     5799.5\n",
       "2020-04-10     6586.5\n",
       "2020-04-11     7488.0\n",
       "2020-04-12     8401.5\n",
       "2020-04-13     9252.0\n",
       "2020-04-14    10589.0\n",
       "2020-04-15    11686.0\n",
       "2020-04-16    12569.5\n",
       "2020-04-17    13611.0\n",
       "2020-04-18    14585.0\n",
       "2020-04-19    15914.0\n",
       "2020-04-20    17460.5\n",
       "2020-04-21    18793.0\n",
       "2020-04-22    20227.5\n",
       "2020-04-23    21546.5\n",
       "2020-04-24    23264.5\n",
       "2020-04-25    24699.5\n",
       "2020-04-26    26550.5\n",
       "2020-04-27    28026.0\n",
       "2020-04-28    29435.0\n",
       "\n",
       "[90 rows x 1 columns]"
      ]
     },
     "execution_count": 9,
     "metadata": {},
     "output_type": "execute_result"
    }
   ],
   "source": [
    "daily"
   ]
  },
  {
   "cell_type": "code",
   "execution_count": 23,
   "metadata": {},
   "outputs": [],
   "source": [
    "#plt.figure(figsize=(16,16))\n",
    "#plt.plot(daily) "
   ]
  },
  {
   "cell_type": "code",
   "execution_count": 10,
   "metadata": {},
   "outputs": [],
   "source": [
    "Train=daily.ix['2020-01-30':'2020-04-28'] \n",
    "#valid=daily.ix['2020-04-27':'2020-04-28']"
   ]
  },
  {
   "cell_type": "code",
   "execution_count": 11,
   "metadata": {},
   "outputs": [
    {
     "data": {
      "image/png": "[encoded data removed]",
      "text/plain": [
       "<Figure size 1080x576 with 1 Axes>"
      ]
     },
     "metadata": {},
     "output_type": "display_data"
    }
   ],
   "source": [
    "Train.Confirmed.plot(figsize=(15,8), title= 'Daily', fontsize=14, label='train') \n",
    "#valid.Confirmed.plot(figsize=(15,8), title= 'Daily', fontsize=14, label='valid')\n",
    "plt.xlabel(\"Datetime\") \n",
    "plt.ylabel(\"Cases\") \n",
    "plt.legend(loc='best') \n",
    "plt.show()"
   ]
  },
  {
   "cell_type": "code",
   "execution_count": 12,
   "metadata": {},
   "outputs": [
    {
     "ename": "NameError",
     "evalue": "name 'valid' is not defined",
     "output_type": "error",
     "traceback": [
      "\u001b[1;31m---------------------------------------------------------------------------\u001b[0m",
      "\u001b[1;31mNameError\u001b[0m                                 Traceback (most recent call last)",
      "\u001b[1;32m<ipython-input-12-13fecb9e13e2>\u001b[0m in \u001b[0;36m<module>\u001b[1;34m()\u001b[0m\n\u001b[0;32m      1\u001b[0m \u001b[1;32mfrom\u001b[0m \u001b[0msklearn\u001b[0m\u001b[1;33m.\u001b[0m\u001b[0mmetrics\u001b[0m \u001b[1;32mimport\u001b[0m \u001b[0mmean_squared_error\u001b[0m\u001b[1;33m\u001b[0m\u001b[0m\n\u001b[0;32m      2\u001b[0m \u001b[1;32mfrom\u001b[0m \u001b[0mmath\u001b[0m \u001b[1;32mimport\u001b[0m \u001b[0msqrt\u001b[0m\u001b[1;33m\u001b[0m\u001b[0m\n\u001b[1;32m----> 3\u001b[1;33m \u001b[0mrms\u001b[0m \u001b[1;33m=\u001b[0m \u001b[0msqrt\u001b[0m\u001b[1;33m(\u001b[0m\u001b[0mmean_squared_error\u001b[0m\u001b[1;33m(\u001b[0m\u001b[0mvalid\u001b[0m\u001b[1;33m.\u001b[0m\u001b[0mConfirmed\u001b[0m\u001b[1;33m,\u001b[0m \u001b[0my_hat\u001b[0m\u001b[1;33m.\u001b[0m\u001b[0mnaive\u001b[0m\u001b[1;33m)\u001b[0m\u001b[1;33m)\u001b[0m\u001b[1;33m\u001b[0m\u001b[0m\n\u001b[0m\u001b[0;32m      4\u001b[0m \u001b[0mprint\u001b[0m\u001b[1;33m(\u001b[0m\u001b[0mrms\u001b[0m\u001b[1;33m)\u001b[0m\u001b[1;33m\u001b[0m\u001b[0m\n",
      "\u001b[1;31mNameError\u001b[0m: name 'valid' is not defined"
     ]
    }
   ],
   "source": [
    "from sklearn.metrics import mean_squared_error \n",
    "from math import sqrt \n",
    "rms = sqrt(mean_squared_error(valid.Confirmed, y_hat.naive)) \n",
    "print(rms)"
   ]
  },
  {
   "cell_type": "code",
   "execution_count": 13,
   "metadata": {},
   "outputs": [],
   "source": [
    "import itertools\n",
    "p=d=q=range(0,4)\n",
    "pdq = list(itertools.product(p,d,q))\n",
    "#pdq"
   ]
  },
  {
   "cell_type": "code",
   "execution_count": 14,
   "metadata": {},
   "outputs": [
    {
     "name": "stdout",
     "output_type": "stream",
     "text": [
      "(0, 0, 0) 1865.0102593569989\n",
      "(0, 0, 1) 1753.6143731135844\n",
      "(0, 0, 3) 1567.4212660990277\n",
      "(0, 1, 0) 1369.1167011574512\n",
      "(0, 1, 1) 1293.758028582215\n",
      "(0, 1, 2) 1236.0457669630107\n",
      "(0, 1, 3) 1196.0038456295194\n",
      "(0, 2, 0) 1112.4211791787864\n",
      "(0, 2, 1) 1090.6817649413374\n",
      "(0, 2, 2) 1090.9473188291988\n",
      "(0, 2, 3) 1092.1039677059175\n",
      "(1, 0, 0) 1437.45380466139\n",
      "(1, 1, 0) 1130.566971725319\n",
      "(1, 2, 0) 1088.7678778446561\n",
      "(1, 2, 1) 1090.2907636137788\n",
      "(1, 2, 2) 1091.8230207858724\n",
      "(1, 2, 3) 1093.5926746536163\n",
      "(2, 1, 0) 1110.3592895376596\n",
      "(2, 2, 0) 1090.5019945141626\n",
      "(2, 2, 1) 1092.009201858672\n",
      "(2, 2, 2) 1093.7624696771559\n",
      "(2, 2, 3) 1086.0797655877614\n",
      "(3, 1, 0) 1112.3406800288105\n",
      "(3, 2, 0) 1091.7128064786134\n",
      "(3, 2, 1) 1093.3784354089917\n",
      "(3, 2, 2) 1108.6054263055476\n"
     ]
    }
   ],
   "source": [
    "from statsmodels.tsa.arima_model import ARIMA\n",
    "import warnings\n",
    "warnings.filterwarnings('ignore')\n",
    "for param in pdq:\n",
    "    try:\n",
    "        model_arima = ARIMA(Train.Confirmed,order=param)\n",
    "        model_arima_fit = model_arima.fit()\n",
    "        print(param,model_arima_fit.aic)\n",
    "    except:\n",
    "        continue"
   ]
  },
  {
   "cell_type": "code",
   "execution_count": 15,
   "metadata": {},
   "outputs": [],
   "source": [
    "model_arima = ARIMA(Train.Confirmed,order=(2, 2, 3))\n",
    "model_arima_fit = model_arima.fit()"
   ]
  },
  {
   "cell_type": "code",
   "execution_count": 16,
   "metadata": {},
   "outputs": [
    {
     "data": {
      "text/plain": [
       "array([30949.57348617, 32356.69150752, 33867.63503282, 35469.81703443,\n",
       "       37032.82630139, 38568.55623593, 40157.37226489, 41789.38403888,\n",
       "       43415.14719024, 45042.33968108, 46701.33178573, 48386.4150201 ,\n",
       "       50078.96621935, 51783.10516491, 53510.2321769 ])"
      ]
     },
     "execution_count": 16,
     "metadata": {},
     "output_type": "execute_result"
    }
   ],
   "source": [
    "predictions= model_arima_fit.forecast(steps=15)[0]\n",
    "predictions"
   ]
  },
  {
   "cell_type": "code",
   "execution_count": 19,
   "metadata": {},
   "outputs": [],
   "source": [
    "predictions=pd.DataFrame(predictions)\n",
    "predictions['Date']=['4/29/2020','4/30/2020','5/1/2020','5/2/2020','5/3/2020',\n",
    "                   '5/4/2020','5/5/2020','5/6/2020','5/7/2020','5/8/2020',\n",
    "                   '5/9/2020','5/10/2020','5/11/2020','5/12/2020','5/13/2020']\n",
    "predictions['Date']=pd.to_datetime(predictions.Date)\n",
    "predictions.index=predictions.Date"
   ]
  },
  {
   "cell_type": "code",
   "execution_count": 24,
   "metadata": {},
   "outputs": [],
   "source": [
    "predictions[0]=predictions[0].astype(int)"
   ]
  },
  {
   "cell_type": "code",
   "execution_count": 25,
   "metadata": {},
   "outputs": [
    {
     "data": {
      "text/plain": [
       "Date\n",
       "2020-04-29    30949\n",
       "2020-04-30    32356\n",
       "2020-05-01    33867\n",
       "2020-05-02    35469\n",
       "2020-05-03    37032\n",
       "2020-05-04    38568\n",
       "2020-05-05    40157\n",
       "2020-05-06    41789\n",
       "2020-05-07    43415\n",
       "2020-05-08    45042\n",
       "2020-05-09    46701\n",
       "2020-05-10    48386\n",
       "2020-05-11    50078\n",
       "2020-05-12    51783\n",
       "2020-05-13    53510\n",
       "Name: 0, dtype: int32"
      ]
     },
     "execution_count": 25,
     "metadata": {},
     "output_type": "execute_result"
    }
   ],
   "source": [
    "predictions[0]"
   ]
  },
  {
   "cell_type": "code",
   "execution_count": 31,
   "metadata": {},
   "outputs": [
    {
     "data": {
      "text/plain": [
       "Datetime\n",
       "2020-03-20      209.00\n",
       "2020-03-21      270.50\n",
       "2020-03-22      336.00\n",
       "2020-03-23      411.75\n",
       "2020-03-24      510.00\n",
       "2020-03-25      584.00\n",
       "2020-03-26      671.50\n",
       "2020-03-27      724.00\n",
       "2020-03-28      891.00\n",
       "2020-03-29     1001.50\n",
       "2020-03-30     1138.00\n",
       "2020-03-31     1359.00\n",
       "2020-04-01     1735.50\n",
       "2020-04-02     2017.00\n",
       "2020-04-03     2376.50\n",
       "2020-04-04     2987.00\n",
       "2020-04-05     3475.50\n",
       "2020-04-06     4174.00\n",
       "2020-04-07     4605.00\n",
       "2020-04-08     5234.00\n",
       "2020-04-09     5799.50\n",
       "2020-04-10     6586.50\n",
       "2020-04-11     7488.00\n",
       "2020-04-12     8401.50\n",
       "2020-04-13     9252.00\n",
       "2020-04-14    10589.00\n",
       "2020-04-15    11686.00\n",
       "2020-04-16    12569.50\n",
       "2020-04-17    13611.00\n",
       "2020-04-18    14585.00\n",
       "2020-04-19    15914.00\n",
       "2020-04-20    17460.50\n",
       "2020-04-21    18793.00\n",
       "2020-04-22    20227.50\n",
       "2020-04-23    21546.50\n",
       "2020-04-24    23264.50\n",
       "2020-04-25    24699.50\n",
       "2020-04-26    26550.50\n",
       "2020-04-27    28026.00\n",
       "2020-04-28    29435.00\n",
       "Freq: D, Name: Confirmed, dtype: float64"
      ]
     },
     "execution_count": 31,
     "metadata": {},
     "output_type": "execute_result"
    }
   ],
   "source": [
    "Train.Confirmed[50:]"
   ]
  },
  {
   "cell_type": "code",
   "execution_count": 38,
   "metadata": {},
   "outputs": [
    {
     "data": {
      "image/png": "[encoded data removed]",
      "text/plain": [
       "<Figure size 1440x720 with 1 Axes>"
      ]
     },
     "metadata": {},
     "output_type": "display_data"
    }
   ],
   "source": [
    "plt.figure(figsize=(20,10))\n",
    "plt.plot(Train.Confirmed[50:], label='Data') \n",
    "plt.plot(predictions[0],\".\" ,label='Predicted Cases') \n",
    "plt.plot(predictions[0],label='Predicted Cases') \n",
    "#for i_x, i_y in zip(x, y):\n",
    "plt.text('4/29/2020',30949, str('30949  '),horizontalalignment='right')\n",
    "plt.text('4/30/2020', 32356, str('32356  '),horizontalalignment='right')\n",
    "plt.text('5/1/2020', 33867, str('33867  '),horizontalalignment='right')\n",
    "plt.text('5/2/2020', 35469, str('35469  '),horizontalalignment='right')\n",
    "plt.text('5/3/2020',37032, str('37032  '),horizontalalignment='right')\n",
    "plt.text('5/4/2020', 38568, str('38568  '),horizontalalignment='right')\n",
    "plt.text('5/5/2020', 40157, str('40157  '),horizontalalignment='right')\n",
    "plt.text('5/6/2020',41789, str('41789 '),horizontalalignment='right')\n",
    "plt.text('5/7/2020', 43415, str('43415  '),horizontalalignment='right')\n",
    "plt.text('5/8/2020',45042, str('45042  '),horizontalalignment='right')\n",
    "plt.text('5/9/2020',46701, str('46701 '),horizontalalignment='right')\n",
    "plt.text('5/10/2020',48386, str('48386  '),horizontalalignment='right')\n",
    "plt.text('5/11/2020',50078, str('50078  '),horizontalalignment='right')\n",
    "plt.text('5/12/2020',51783, str('51783  '),horizontalalignment='right')\n",
    "plt.text('5/13/2020',53510, str('53510 '),horizontalalignment='right')\n",
    "    \n",
    "    \n",
    "\n",
    "plt.text('4/29/2020',30949, str('    29th Apr'))\n",
    "plt.text('4/30/2020',32356, str('    30th Apr'))\n",
    "plt.text('5/1/2020',33867, str('   1st May'))\n",
    "plt.text('5/2/2020',35469, str('   2nd May'))\n",
    "plt.text('5/3/2020',37032, str('   3rd May'))\n",
    "plt.text('5/4/2020',38568, str('   4th May'))\n",
    "plt.text('5/5/2020',40157, str('   5th May'))\n",
    "plt.text('5/6/2020',41789, str('   6th May'))\n",
    "plt.text('5/7/2020',43415, str('   7th May'))\n",
    "plt.text('5/8/2020',45042, str('   8th May'))\n",
    "plt.text('5/9/2020',46701, str('   9th May'))\n",
    "plt.text('5/10/2020',48386, str('  10th May'))\n",
    "plt.text('5/11/2020',50078, str('  11th May'))\n",
    "plt.text('5/12/2020',51783, str('  12th May'))\n",
    "plt.text('5/13/2020',53510, str('  13th May'))  \n",
    "\n",
    "plt.title('Forecasting India for Next 15 Days') \n",
    "plt.xlabel(\"Date\") \n",
    "plt.ylabel(\"COVID19-Cases\") \n",
    "\n",
    "plt.show()"
   ]
  },
  {
   "cell_type": "code",
   "execution_count": null,
   "metadata": {},
   "outputs": [],
   "source": [
    "\n"
   ]
  },
  {
   "cell_type": "code",
   "execution_count": null,
   "metadata": {},
   "outputs": [],
   "source": [
    "daily_log=pd.DataFrame(np.log(daily['Confirmed']))\n"
   ]
  },
  {
   "cell_type": "code",
   "execution_count": 49,
   "metadata": {},
   "outputs": [],
   "source": [
    "daily_log= daily_log.replace([np.inf, -np.inf], 0)"
   ]
  },
  {
   "cell_type": "code",
   "execution_count": 56,
   "metadata": {},
   "outputs": [],
   "source": [
    "daily_log= daily_log.Confirmed"
   ]
  },
  {
   "cell_type": "code",
   "execution_count": 66,
   "metadata": {},
   "outputs": [],
   "source": [
    "daily_log=daily_log.to_frame()"
   ]
  },
  {
   "cell_type": "code",
   "execution_count": 1,
   "metadata": {},
   "outputs": [
    {
     "ename": "NameError",
     "evalue": "name 'pdq' is not defined",
     "output_type": "error",
     "traceback": [
      "\u001b[1;31m---------------------------------------------------------------------------\u001b[0m",
      "\u001b[1;31mNameError\u001b[0m                                 Traceback (most recent call last)",
      "\u001b[1;32m<ipython-input-1-6f389489f690>\u001b[0m in \u001b[0;36m<module>\u001b[1;34m()\u001b[0m\n\u001b[0;32m      2\u001b[0m \u001b[1;32mimport\u001b[0m \u001b[0mwarnings\u001b[0m\u001b[1;33m\u001b[0m\u001b[0m\n\u001b[0;32m      3\u001b[0m \u001b[0mwarnings\u001b[0m\u001b[1;33m.\u001b[0m\u001b[0mfilterwarnings\u001b[0m\u001b[1;33m(\u001b[0m\u001b[1;34m'ignore'\u001b[0m\u001b[1;33m)\u001b[0m\u001b[1;33m\u001b[0m\u001b[0m\n\u001b[1;32m----> 4\u001b[1;33m \u001b[1;32mfor\u001b[0m \u001b[0mparam\u001b[0m \u001b[1;32min\u001b[0m \u001b[0mpdq\u001b[0m\u001b[1;33m:\u001b[0m\u001b[1;33m\u001b[0m\u001b[0m\n\u001b[0m\u001b[0;32m      5\u001b[0m     \u001b[1;32mtry\u001b[0m\u001b[1;33m:\u001b[0m\u001b[1;33m\u001b[0m\u001b[0m\n\u001b[0;32m      6\u001b[0m         \u001b[0mmodel_arima\u001b[0m \u001b[1;33m=\u001b[0m \u001b[0mARIMA\u001b[0m\u001b[1;33m(\u001b[0m\u001b[0mdaily_log\u001b[0m\u001b[1;33m.\u001b[0m\u001b[0mConfirmed\u001b[0m\u001b[1;33m,\u001b[0m\u001b[0morder\u001b[0m\u001b[1;33m=\u001b[0m\u001b[0mparam\u001b[0m\u001b[1;33m)\u001b[0m\u001b[1;33m\u001b[0m\u001b[0m\n",
      "\u001b[1;31mNameError\u001b[0m: name 'pdq' is not defined"
     ]
    }
   ],
   "source": [
    "from statsmodels.tsa.arima_model import ARIMA\n",
    "import warnings\n",
    "warnings.filterwarnings('ignore')\n",
    "for param in pdq:\n",
    "    try:\n",
    "        model_arima = ARIMA(daily_log.Confirmed,order=param)\n",
    "        model_arima_fit = model_arima.fit()\n",
    "        print(param,model_arima_fit.aic)\n",
    "    except:\n",
    "        continue"
   ]
  },
  {
   "cell_type": "code",
   "execution_count": 77,
   "metadata": {},
   "outputs": [],
   "source": [
    "model_arima = ARIMA(daily_log.Confirmed,order=(2, 2, 3))\n",
    "model_arima_fit = model_arima.fit()"
   ]
  },
  {
   "cell_type": "code",
   "execution_count": 78,
   "metadata": {},
   "outputs": [
    {
     "data": {
      "text/plain": [
       "array([ 31530.66540272,  39290.19810665,  49960.86039093,  55780.33431863,\n",
       "        66976.91259518,  85268.11534281,  98913.5541447 , 116825.11509679,\n",
       "       147268.74577151, 175899.25399974, 207385.88796472, 258211.95187197,\n",
       "       314380.72999554, 373197.18980214, 460001.41118149])"
      ]
     },
     "execution_count": 78,
     "metadata": {},
     "output_type": "execute_result"
    }
   ],
   "source": [
    "predictions= model_arima_fit.forecast(steps=15)[0]\n",
    "np.exp(predictions)"
   ]
  },
  {
   "cell_type": "code",
   "execution_count": 31,
   "metadata": {},
   "outputs": [
    {
     "data": {
      "text/plain": [
       "10.34009596741305"
      ]
     },
     "execution_count": 31,
     "metadata": {},
     "output_type": "execute_result"
    }
   ],
   "source": [
    "np.log(30949)"
   ]
  },
  {
   "cell_type": "code",
   "execution_count": 32,
   "metadata": {},
   "outputs": [
    {
     "data": {
      "text/plain": [
       "30946.030047045107"
      ]
     },
     "execution_count": 32,
     "metadata": {},
     "output_type": "execute_result"
    }
   ],
   "source": [
    "np.exp(10.34)"
   ]
  },
  {
   "cell_type": "code",
   "execution_count": 430,
   "metadata": {},
   "outputs": [
    {
     "name": "stdout",
     "output_type": "stream",
     "text": [
      "455.061064994478\n"
     ]
    }
   ],
   "source": [
    "rms = sqrt(mean_squared_error(valid.Confirmed, predictions)) \n",
    "print(rms)"
   ]
  },
  {
   "cell_type": "code",
   "execution_count": 154,
   "metadata": {},
   "outputs": [],
   "source": [
    "predictions = pd.DataFrame(predictions, index = valid.index)"
   ]
  },
  {
   "cell_type": "code",
   "execution_count": 155,
   "metadata": {},
   "outputs": [
    {
     "data": {
      "image/png": "[encoded data removed]",
      "text/plain": [
       "<Figure size 1152x576 with 1 Axes>"
      ]
     },
     "metadata": {},
     "output_type": "display_data"
    }
   ],
   "source": [
    "plt.figure(figsize=(16,8)) \n",
    "plt.plot(Train['Confirmed'], label='Train') \n",
    "plt.plot(valid['Confirmed'], label='Valid') \n",
    "plt.plot(predictions, label='ARIMA') \n",
    "plt.legend(loc='best') \n",
    "plt.show()"
   ]
  },
  {
   "cell_type": "code",
   "execution_count": 440,
   "metadata": {},
   "outputs": [],
   "source": [
    "from statsmodels.tsa.stattools import adfuller \n",
    "def test_stationarity(timeseries):\n",
    "        #Determing rolling statistics\n",
    "    #rolmean = timeseries.rolling(50).mean()  \n",
    "    #rolstd = timeseries.rolling(50).std()\n",
    "    #rolmean = pd.rolling_mean(timeseries, window=24) # 24 hours on each day\n",
    "    #rolstd = pd.rolling_std(timeseries, window=24)\n",
    "        #Plot rolling statistics:\n",
    "    #orig = plt.plot(timeseries, color='blue',label='Original')\n",
    "    #mean = plt.plot(rolmean, color='red', label='Rolling Mean')\n",
    "    #std = plt.plot(rolstd, color='black', label = 'Rolling Std')\n",
    "    #plt.legend(loc='best')\n",
    "    #plt.title('Rolling Mean & Standard Deviation')\n",
    "    #plt.show(block=False)\n",
    "        #Perform Dickey-Fuller test:\n",
    "    print ('Results of Dickey-Fuller Test:')\n",
    "    dftest = adfuller(timeseries, autolag='AIC')\n",
    "    dfoutput = pd.Series(dftest[0:4], index=['Test Statistic','p-value','#Lags Used','Number of Observations Used'])\n",
    "\n",
    "    for key,value in dftest[4].items():\n",
    "        dfoutput['Critical Value (%s)'%key] = value\n",
    "    print (dfoutput)\n",
    "\n",
    "from matplotlib.pylab import rcParams \n",
    "rcParams['figure.figsize'] = 15,10"
   ]
  },
  {
   "cell_type": "code",
   "execution_count": 441,
   "metadata": {},
   "outputs": [
    {
     "name": "stdout",
     "output_type": "stream",
     "text": [
      "Results of Dickey-Fuller Test:\n",
      "Test Statistic                  1.504408\n",
      "p-value                         0.997540\n",
      "#Lags Used                      2.000000\n",
      "Number of Observations Used    50.000000\n",
      "Critical Value (1%)            -3.568486\n",
      "Critical Value (5%)            -2.921360\n",
      "Critical Value (10%)           -2.598662\n",
      "dtype: float64\n"
     ]
    }
   ],
   "source": [
    "test_stationarity(Train['Confirmed'])"
   ]
  },
  {
   "cell_type": "code",
   "execution_count": 445,
   "metadata": {},
   "outputs": [],
   "source": [
    "Train_log = np.log(Train['Confirmed']) \n",
    "valid_log = np.log(valid['Confirmed'])\n",
    "moving_avg = Train_log.rolling(10).mean() \n",
    "#plt.plot(Train_log) \n",
    "#plt.plot(moving_avg, color = 'red') \n",
    "#plt.show()"
   ]
  },
  {
   "cell_type": "code",
   "execution_count": 446,
   "metadata": {},
   "outputs": [],
   "source": [
    "train_log_moving_avg_diff = Train_log - moving_avg"
   ]
  },
  {
   "cell_type": "code",
   "execution_count": 447,
   "metadata": {},
   "outputs": [
    {
     "name": "stdout",
     "output_type": "stream",
     "text": [
      "Results of Dickey-Fuller Test:\n",
      "Test Statistic                -5.648428e+00\n",
      "p-value                        9.988759e-07\n",
      "#Lags Used                     0.000000e+00\n",
      "Number of Observations Used    4.300000e+01\n",
      "Critical Value (1%)           -3.592504e+00\n",
      "Critical Value (5%)           -2.931550e+00\n",
      "Critical Value (10%)          -2.604066e+00\n",
      "dtype: float64\n"
     ]
    }
   ],
   "source": [
    "train_log_moving_avg_diff.dropna(inplace = True) \n",
    "test_stationarity(train_log_moving_avg_diff)"
   ]
  },
  {
   "cell_type": "code",
   "execution_count": 452,
   "metadata": {},
   "outputs": [
    {
     "name": "stdout",
     "output_type": "stream",
     "text": [
      "Results of Dickey-Fuller Test:\n",
      "Test Statistic                 -1.247487\n",
      "p-value                         0.652842\n",
      "#Lags Used                     10.000000\n",
      "Number of Observations Used    41.000000\n",
      "Critical Value (1%)            -3.600983\n",
      "Critical Value (5%)            -2.935135\n",
      "Critical Value (10%)           -2.605963\n",
      "dtype: float64\n"
     ]
    }
   ],
   "source": [
    "train_log_diff = Train_log - Train_log.shift(1) \n",
    "test_stationarity(train_log_diff.dropna())"
   ]
  },
  {
   "cell_type": "code",
   "execution_count": 453,
   "metadata": {},
   "outputs": [
    {
     "data": {
      "image/png": "[encoded data removed]",
      "text/plain": [
       "<Figure size 1080x720 with 4 Axes>"
      ]
     },
     "metadata": {},
     "output_type": "display_data"
    }
   ],
   "source": [
    "from statsmodels.tsa.seasonal import seasonal_decompose \n",
    "decomposition = seasonal_decompose(pd.DataFrame(Train_log).Confirmed.values, freq = 1) \n",
    "\n",
    "trend = decomposition.trend \n",
    "seasonal = decomposition.seasonal \n",
    "residual = decomposition.resid \n",
    "\n",
    "plt.subplot(411) \n",
    "plt.plot(Train_log, label='Original') \n",
    "plt.legend(loc='best') \n",
    "plt.subplot(412) \n",
    "plt.plot(trend, label='Trend') \n",
    "plt.legend(loc='best') \n",
    "plt.subplot(413) \n",
    "plt.plot(seasonal,label='Seasonality') \n",
    "plt.legend(loc='best') \n",
    "plt.subplot(414) \n",
    "plt.plot(residual, label='Residuals') \n",
    "plt.legend(loc='best') \n",
    "plt.tight_layout() \n",
    "plt.show()"
   ]
  },
  {
   "cell_type": "code",
   "execution_count": 454,
   "metadata": {},
   "outputs": [
    {
     "name": "stdout",
     "output_type": "stream",
     "text": [
      "(0, 0, 0) 21.029639900835207\n",
      "(0, 0, 1) -19.495404854733465\n",
      "(0, 0, 3) -71.9162878585058\n",
      "(0, 0, 4) -81.75710140779458\n",
      "(0, 0, 6) -98.5031634263216\n",
      "(0, 0, 7) -102.52360899670259\n",
      "(0, 0, 8) -106.63346174671776\n",
      "(0, 0, 9) -109.71358470459603\n",
      "(0, 1, 0) -84.29646972661743\n",
      "(0, 1, 1) -100.66306156001862\n",
      "(0, 1, 2) -106.70992074463048\n",
      "(0, 1, 3) -109.00519357393189\n",
      "(0, 1, 4) -115.0057342778437\n",
      "(0, 1, 5) -113.00911691072854\n",
      "(0, 2, 0) -108.7308097274908\n",
      "(0, 2, 1) -108.59644120455661\n",
      "(0, 2, 2) -106.85818825606364\n",
      "(0, 2, 3) -105.09623931890204\n",
      "(0, 2, 4) -104.5954619888665\n",
      "(0, 2, 5) -109.2990835749255\n",
      "(0, 2, 6) -107.30523837150955\n",
      "(0, 2, 8) -100.65706964883148\n",
      "(0, 2, 9) -99.86508286556253\n",
      "(1, 0, 0) -74.10255427337503\n",
      "(1, 0, 1) -92.28511079172995\n",
      "(1, 0, 2) -99.91503314618043\n",
      "(1, 0, 3) -102.10245227246631\n",
      "(1, 0, 4) -110.25761244665884\n",
      "(1, 0, 7) -109.4175448070323\n",
      "(1, 1, 0) -113.09414257466948\n",
      "(1, 1, 1) -111.16012231346248\n",
      "(1, 1, 2) -110.22913435017016\n",
      "(1, 1, 3) -103.15276143390157\n",
      "(1, 1, 5) -108.75503833117561\n",
      "(1, 2, 0) -108.73249900494983\n",
      "(1, 2, 1) -106.73301458317565\n",
      "(1, 2, 2) -104.89285082002124\n",
      "(2, 0, 0) -108.68829745666721\n",
      "(2, 0, 1) -106.87153394178071\n",
      "(2, 0, 2) -106.00025183960685\n",
      "(2, 0, 3) -108.75320942991416\n",
      "(2, 0, 4) -111.2734617133207\n",
      "(2, 0, 7) -107.44741326582002\n",
      "(2, 1, 0) -111.19649679940876\n",
      "(2, 1, 1) -112.59927048306595\n",
      "(2, 1, 2) -117.3393616363295\n",
      "(2, 1, 3) -111.71845152919362\n",
      "(2, 1, 5) -107.30715258330285\n",
      "(2, 2, 0) -106.73331176947556\n",
      "(2, 2, 1) -106.58076530071006\n",
      "(2, 2, 2) -103.4922544451239\n",
      "(2, 2, 3) -102.87428479730289\n",
      "(3, 0, 0) -106.95441384512688\n",
      "(3, 0, 2) -112.41915643327829\n",
      "(3, 0, 3) -111.61079320717667\n",
      "(3, 0, 4) -109.32574112513845\n",
      "(3, 0, 6) -104.89624897270505\n",
      "(3, 0, 7) -104.47919637784548\n",
      "(3, 0, 8) -103.60376946959505\n",
      "(3, 0, 9) -105.00062610235983\n",
      "(3, 1, 0) -110.47504905798003\n",
      "(3, 1, 1) -112.55148399812707\n",
      "(3, 1, 2) -110.556833354374\n",
      "(3, 1, 5) -116.76334463896063\n",
      "(3, 1, 6) -106.87634067658843\n",
      "(3, 2, 0) -104.90047864411437\n",
      "(3, 2, 1) -105.20677826648793\n",
      "(3, 2, 2) -102.74169492928601\n",
      "(3, 2, 3) -101.44443476042068\n",
      "(4, 0, 0) -105.84202290535302\n",
      "(4, 0, 1) -103.04927674659905\n",
      "(4, 0, 3) -100.33677100360725\n",
      "(4, 0, 4) -101.14375816749487\n",
      "(4, 0, 8) -104.78531024932482\n",
      "(4, 0, 9) -101.08127070819333\n",
      "(4, 1, 0) -111.75808393558206\n",
      "(4, 1, 1) -112.29595020297408\n",
      "(4, 1, 2) -108.73508311256076\n",
      "(4, 1, 5) -114.96755051867956\n",
      "(4, 1, 6) -113.95197356790965\n",
      "(4, 2, 0) -102.90625543038732\n",
      "(4, 2, 1) -101.14450218333721\n",
      "(4, 2, 2) -101.5817864574465\n",
      "(4, 2, 3) -100.40219644615499\n",
      "(5, 0, 0) -106.23858882516407\n",
      "(5, 0, 1) -76.91176281155018\n",
      "(5, 0, 4) -112.49642260627598\n",
      "(5, 0, 5) -107.50978025408676\n",
      "(5, 0, 6) -105.63886642161759\n",
      "(5, 0, 7) -103.84116959830641\n",
      "(5, 0, 8) -102.41835067067967\n",
      "(5, 0, 9) -100.90329347846836\n",
      "(5, 1, 0) -116.44792480116593\n",
      "(5, 1, 1) -114.83567076708408\n",
      "(5, 1, 2) -116.69115739441548\n",
      "(5, 1, 3) -112.97339789105604\n",
      "(5, 1, 4) -112.19602451511679\n",
      "(5, 1, 5) -112.59745057664406\n",
      "(5, 1, 6) -111.89153016602552\n",
      "(5, 2, 0) -106.65408259794262\n",
      "(5, 2, 1) -108.91823529353258\n",
      "(5, 2, 2) -108.39780581801128\n",
      "(5, 2, 4) -106.61062720688759\n",
      "(6, 0, 1) -96.89988778738805\n",
      "(6, 0, 2) -99.44821176369058\n",
      "(6, 0, 3) -98.35401504379752\n",
      "(6, 0, 4) -104.23327012476906\n",
      "(6, 0, 6) -106.91454146951946\n",
      "(6, 0, 7) -99.53677280079916\n",
      "(6, 0, 9) -98.26392096107139\n",
      "(6, 1, 0) -115.1761766827612\n",
      "(6, 1, 1) -113.89558921110921\n",
      "(6, 1, 2) -113.31166202005255\n",
      "(6, 1, 3) -109.65531013378137\n",
      "(6, 1, 5) -112.05289082725841\n",
      "(6, 1, 6) -113.01504169143402\n",
      "(6, 2, 0) -109.3920390141034\n",
      "(6, 2, 1) -108.60834883150613\n",
      "(6, 2, 2) -106.61672113257129\n",
      "(6, 2, 3) -105.9095161015658\n",
      "(6, 2, 4) -102.60143142396151\n",
      "(6, 2, 8) -97.9402933549182\n",
      "(7, 0, 0) -88.88434822142415\n",
      "(7, 0, 3) -104.02577576279586\n",
      "(7, 0, 4) -98.76561301515227\n",
      "(7, 0, 6) -101.06113093144421\n",
      "(7, 0, 7) -104.08687570233718\n",
      "(7, 1, 0) -114.60697427699381\n",
      "(7, 1, 1) -112.68664961822162\n",
      "(7, 1, 2) -113.27527907593759\n",
      "(7, 1, 3) -108.51569573703199\n",
      "(7, 1, 4) -109.21533497429022\n",
      "(7, 1, 5) -110.0719864208171\n",
      "(7, 1, 6) -108.36395773288012\n",
      "(7, 1, 7) -104.33937633124623\n",
      "(7, 1, 8) -106.43165139381904\n",
      "(7, 2, 0) -109.2000825796267\n",
      "(7, 2, 1) -107.66388441886949\n",
      "(7, 2, 2) -109.62403456495693\n",
      "(7, 2, 4) -106.10963826413393\n",
      "(7, 2, 5) -101.86542264784191\n",
      "(7, 2, 7) -100.96348759920934\n",
      "(8, 0, 0) -109.04242230078432\n",
      "(8, 0, 1) -107.36809603755944\n",
      "(8, 0, 3) -57.63181678732661\n",
      "(8, 0, 4) -100.66236151035773\n",
      "(8, 0, 5) -101.21852943772342\n",
      "(8, 0, 7) -105.63529036919641\n",
      "(8, 0, 9) -95.80716287565696\n",
      "(8, 1, 0) -112.9112450305833\n",
      "(8, 1, 1) -111.5399907111335\n",
      "(8, 1, 2) -115.32902647895457\n",
      "(8, 1, 3) -113.33634893150997\n",
      "(8, 1, 4) -110.3423395250058\n",
      "(8, 1, 5) -107.38761787140987\n",
      "(8, 1, 6) -106.83301341598394\n",
      "(8, 1, 8) -106.94108545687129\n",
      "(8, 1, 9) -105.93319120712431\n",
      "(8, 2, 0) -107.79217117815793\n",
      "(8, 2, 2) -103.68906614149324\n",
      "(8, 2, 3) -108.27669249150057\n",
      "(8, 2, 4) -97.23360796512742\n",
      "(8, 2, 5) -102.85134668706749\n",
      "(8, 2, 6) -98.45402186404871\n",
      "(8, 2, 8) -97.43027828083783\n",
      "(9, 0, 0) -107.85481243486447\n",
      "(9, 0, 1) -106.49369128241125\n",
      "(9, 0, 2) -100.07919861390542\n",
      "(9, 0, 3) -99.48140278905132\n",
      "(9, 0, 4) -101.20959870147743\n",
      "(9, 0, 5) -98.14022933805529\n",
      "(9, 1, 0) -113.61894933075627\n",
      "(9, 1, 1) -113.01305720177089\n",
      "(9, 1, 2) -34.573721208169346\n",
      "(9, 1, 3) -113.38464773714361\n",
      "(9, 1, 4) -104.72126445709154\n",
      "(9, 1, 6) -108.37585098143256\n",
      "(9, 1, 7) -105.8364826196015\n",
      "(9, 1, 8) -103.65145905992574\n",
      "(9, 1, 9) -102.4595378142696\n",
      "(9, 2, 0) -106.13009534323189\n",
      "(9, 2, 1) -105.05395008535314\n",
      "(9, 2, 3) -101.6502119124512\n",
      "(9, 2, 4) -100.80737890187004\n",
      "(9, 2, 8) -96.93134888467011\n"
     ]
    }
   ],
   "source": [
    "import warnings\n",
    "warnings.filterwarnings('ignore')\n",
    "for param in pdq:\n",
    "    try:\n",
    "        model_arima = ARIMA(train_log_moving_avg_diff.dropna(),order=param)\n",
    "        model_arima_fit = model_arima.fit()\n",
    "        print(param,model_arima_fit.aic)\n",
    "    except:\n",
    "        continue"
   ]
  },
  {
   "cell_type": "code",
   "execution_count": 456,
   "metadata": {},
   "outputs": [
    {
     "name": "stdout",
     "output_type": "stream",
     "text": [
      "                             ARIMA Model Results                              \n",
      "==============================================================================\n",
      "Dep. Variable:            D.Confirmed   No. Observations:                   43\n",
      "Model:                 ARIMA(2, 1, 2)   Log Likelihood                  64.670\n",
      "Method:                       css-mle   S.D. of innovations              0.049\n",
      "Date:                Wed, 29 Apr 2020   AIC                           -117.339\n",
      "Time:                        18:48:11   BIC                           -106.772\n",
      "Sample:                    03-15-2020   HQIC                          -113.443\n",
      "                         - 04-26-2020                                         \n",
      "=====================================================================================\n",
      "                        coef    std err          z      P>|z|      [0.025      0.975]\n",
      "-------------------------------------------------------------------------------------\n",
      "const                -0.0271      0.017     -1.641      0.109      -0.060       0.005\n",
      "ar.L1.D.Confirmed     1.5021      0.095     15.795      0.000       1.316       1.689\n",
      "ar.L2.D.Confirmed    -0.9059      0.084    -10.800      0.000      -1.070      -0.742\n",
      "ma.L1.D.Confirmed    -1.1128      0.026    -42.393      0.000      -1.164      -1.061\n",
      "ma.L2.D.Confirmed     1.0000        nan        nan        nan         nan         nan\n",
      "                                    Roots                                    \n",
      "=============================================================================\n",
      "                  Real          Imaginary           Modulus         Frequency\n",
      "-----------------------------------------------------------------------------\n",
      "AR.1            0.8291           -0.6454j            1.0506           -0.1053\n",
      "AR.2            0.8291           +0.6454j            1.0506            0.1053\n",
      "MA.1            0.5564           -0.8309j            1.0000           -0.1561\n",
      "MA.2            0.5564           +0.8309j            1.0000            0.1561\n",
      "-----------------------------------------------------------------------------\n"
     ]
    }
   ],
   "source": [
    "arima_mod6 = sm.tsa.ARIMA(train_log_moving_avg_diff.dropna(), (2,1,2)).fit(disp=False)\n",
    "print(arima_mod6.summary())"
   ]
  },
  {
   "cell_type": "code",
   "execution_count": 457,
   "metadata": {},
   "outputs": [],
   "source": [
    "def check_prediction_diff(predict_diff, given_set):\n",
    "    predict_diff= predict_diff.cumsum().shift().fillna(0)\n",
    "    predict_base = pd.Series(np.ones(given_set.shape[0]) * np.log(given_set['Confirmed'])[0], index = given_set.index)\n",
    "    predict_log = predict_base.add(predict_diff[0],fill_value=0)\n",
    "    predict = np.exp(predict_log)\n",
    "   # print(predict)\n",
    "    plt.plot(given_set['Confirmed'], label = \"Given set\")\n",
    "    plt.plot(predict, color = 'red', label = \"Predict\")\n",
    "    plt.legend(loc= 'best')\n",
    "    rms = sqrt(mean_squared_error(given_set.Confirmed,predict)) \n",
    "    print(rms)\n",
    "    plt.show()\n",
    "    return predict"
   ]
  },
  {
   "cell_type": "code",
   "execution_count": 459,
   "metadata": {},
   "outputs": [],
   "source": [
    "ARIMA_predict_diff=arima_mod6.forecast(steps=12)[0]\n",
    "ARIMA_predict_diff=pd.Series(ARIMA_predict_diff,index=valid.index)"
   ]
  },
  {
   "cell_type": "code",
   "execution_count": 460,
   "metadata": {},
   "outputs": [
    {
     "name": "stdout",
     "output_type": "stream",
     "text": [
      "996.3134546918301\n"
     ]
    },
    {
     "data": {
      "image/png": "[encoded data removed]",
      "text/plain": [
       "<Figure size 1080x720 with 1 Axes>"
      ]
     },
     "metadata": {},
     "output_type": "display_data"
    },
    {
     "data": {
      "text/plain": [
       "Datetime\n",
       "2020-04-27    28026.0\n",
       "2020-04-28    28026.0\n",
       "dtype: float64"
      ]
     },
     "execution_count": 460,
     "metadata": {},
     "output_type": "execute_result"
    }
   ],
   "source": [
    "pre = check_prediction_diff(ARIMA_predict_diff, valid)\n",
    "pre"
   ]
  }
 ],
 "metadata": {
  "kernelspec": {
   "display_name": "Python 3",
   "language": "python",
   "name": "python3"
  },
  "language_info": {
   "codemirror_mode": {
    "name": "ipython",
    "version": 3
   },
   "file_extension": ".py",
   "mimetype": "text/x-python",
   "name": "python",
   "nbconvert_exporter": "python",
   "pygments_lexer": "ipython3",
   "version": "3.6.5"
  }
 },
 "nbformat": 4,
 "nbformat_minor": 2
}
